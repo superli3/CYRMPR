{
 "cells": [
  {
   "cell_type": "code",
   "execution_count": 2,
   "metadata": {},
   "outputs": [
    {
     "name": "stdout",
     "output_type": "stream",
     "text": [
      "Collecting keras\n",
      "  Downloading keras-2.7.0-py2.py3-none-any.whl (1.3 MB)\n",
      "\u001b[K     |████████████████████████████████| 1.3 MB 44.0 MB/s eta 0:00:01\n",
      "\u001b[?25hInstalling collected packages: keras\n",
      "Successfully installed keras-2.7.0\n",
      "\u001b[33mWARNING: Running pip as the 'root' user can result in broken permissions and conflicting behaviour with the system package manager. It is recommended to use a virtual environment instead: https://pip.pypa.io/warnings/venv\u001b[0m\n",
      "\u001b[33mWARNING: You are using pip version 21.2.4; however, version 21.3.1 is available.\n",
      "You should consider upgrading via the '/usr/bin/python -m pip install --upgrade pip' command.\u001b[0m\n"
     ]
    }
   ],
   "source": [
    "!pip install tensorflow.keras"
   ]
  },
  {
   "cell_type": "code",
   "execution_count": 6,
   "metadata": {},
   "outputs": [],
   "source": [
    "import tensorflow as tf"
   ]
  },
  {
   "cell_type": "code",
   "execution_count": 11,
   "metadata": {},
   "outputs": [],
   "source": [
    "from tensorflow.keras.datasets import imdb\n",
    "from tensorflow.keras.models import Sequential\n",
    "from tensorflow.keras.layers import Dense\n",
    "from tensorflow.keras.layers import LSTM\n",
    "#from tensorflow.keras.layers.embeddings import Embedding\n",
    "from tensorflow.keras.preprocessing import sequence\n",
    "import numpy as np\n",
    "# fix random seed for reproducibility\n",
    "np.random.seed(7)"
   ]
  },
  {
   "cell_type": "code",
   "execution_count": 15,
   "metadata": {},
   "outputs": [
    {
     "ename": "AttributeError",
     "evalue": "module 'tensorflow.python.keras.api._v1.keras.layers' has no attribute 'Embeddings'",
     "output_type": "error",
     "traceback": [
      "\u001b[0;31m---------------------------------------------------------------------------\u001b[0m",
      "\u001b[0;31mAttributeError\u001b[0m                            Traceback (most recent call last)",
      "\u001b[0;32m/tmp/ipykernel_745/3344573568.py\u001b[0m in \u001b[0;36m<module>\u001b[0;34m\u001b[0m\n\u001b[0;32m----> 1\u001b[0;31m \u001b[0mtf\u001b[0m\u001b[0;34m.\u001b[0m\u001b[0mkeras\u001b[0m\u001b[0;34m.\u001b[0m\u001b[0mlayers\u001b[0m\u001b[0;34m.\u001b[0m\u001b[0mEmbeddings\u001b[0m\u001b[0;34m\u001b[0m\u001b[0;34m\u001b[0m\u001b[0m\n\u001b[0m",
      "\u001b[0;32m/usr/local/lib/python3.8/dist-packages/tensorflow_core/python/util/module_wrapper.py\u001b[0m in \u001b[0;36m__getattr__\u001b[0;34m(self, name)\u001b[0m\n\u001b[1;32m    191\u001b[0m   \u001b[0;32mdef\u001b[0m \u001b[0m__getattr__\u001b[0m\u001b[0;34m(\u001b[0m\u001b[0mself\u001b[0m\u001b[0;34m,\u001b[0m \u001b[0mname\u001b[0m\u001b[0;34m)\u001b[0m\u001b[0;34m:\u001b[0m\u001b[0;34m\u001b[0m\u001b[0;34m\u001b[0m\u001b[0m\n\u001b[1;32m    192\u001b[0m     \u001b[0;32mtry\u001b[0m\u001b[0;34m:\u001b[0m\u001b[0;34m\u001b[0m\u001b[0;34m\u001b[0m\u001b[0m\n\u001b[0;32m--> 193\u001b[0;31m       \u001b[0mattr\u001b[0m \u001b[0;34m=\u001b[0m \u001b[0mgetattr\u001b[0m\u001b[0;34m(\u001b[0m\u001b[0mself\u001b[0m\u001b[0;34m.\u001b[0m\u001b[0m_tfmw_wrapped_module\u001b[0m\u001b[0;34m,\u001b[0m \u001b[0mname\u001b[0m\u001b[0;34m)\u001b[0m\u001b[0;34m\u001b[0m\u001b[0;34m\u001b[0m\u001b[0m\n\u001b[0m\u001b[1;32m    194\u001b[0m     \u001b[0;32mexcept\u001b[0m \u001b[0mAttributeError\u001b[0m\u001b[0;34m:\u001b[0m\u001b[0;34m\u001b[0m\u001b[0;34m\u001b[0m\u001b[0m\n\u001b[1;32m    195\u001b[0m       \u001b[0;32mif\u001b[0m \u001b[0;32mnot\u001b[0m \u001b[0mself\u001b[0m\u001b[0;34m.\u001b[0m\u001b[0m_tfmw_public_apis\u001b[0m\u001b[0;34m:\u001b[0m\u001b[0;34m\u001b[0m\u001b[0;34m\u001b[0m\u001b[0m\n",
      "\u001b[0;31mAttributeError\u001b[0m: module 'tensorflow.python.keras.api._v1.keras.layers' has no attribute 'Embeddings'"
     ]
    }
   ],
   "source": [
    "tf.keras.layers.Embeddings"
   ]
  },
  {
   "cell_type": "code",
   "execution_count": 16,
   "metadata": {},
   "outputs": [
    {
     "name": "stdout",
     "output_type": "stream",
     "text": [
      "Package                       Version\n",
      "----------------------------- ---------\n",
      "absl-py                       0.14.1\n",
      "argon2-cffi                   21.1.0\n",
      "asgiref                       3.4.1\n",
      "astor                         0.8.1\n",
      "astunparse                    1.6.3\n",
      "attrs                         21.2.0\n",
      "backcall                      0.2.0\n",
      "bleach                        4.1.0\n",
      "certifi                       2021.5.30\n",
      "cffi                          1.14.6\n",
      "charset-normalizer            2.0.6\n",
      "click                         8.0.1\n",
      "cloudpickle                   2.0.0\n",
      "cupy-cuda114                  9.5.0\n",
      "debugpy                       1.5.0\n",
      "decorator                     5.1.0\n",
      "defusedxml                    0.7.1\n",
      "Django                        3.2.6\n",
      "entrypoints                   0.3\n",
      "fastrlock                     0.6\n",
      "future                        0.18.2\n",
      "gast                          0.3.3\n",
      "google-pasta                  0.2.0\n",
      "graphsurgeon                  0.4.5\n",
      "grpcio                        1.41.0\n",
      "gunicorn                      20.1.0\n",
      "h11                           0.12.0\n",
      "h5py                          2.10.0\n",
      "horovod                       0.22.1\n",
      "httptools                     0.2.0\n",
      "idna                          3.2\n",
      "ipykernel                     6.4.1\n",
      "ipython                       7.28.0\n",
      "ipython-genutils              0.2.0\n",
      "jedi                          0.18.0\n",
      "Jinja2                        3.0.2\n",
      "joblib                        1.1.0\n",
      "json5                         0.9.6\n",
      "jsonschema                    4.0.1\n",
      "jupyter-client                7.0.6\n",
      "jupyter-core                  4.8.1\n",
      "jupyter-tensorboard           0.2.0\n",
      "jupyterlab                    2.3.2\n",
      "jupyterlab-pygments           0.1.2\n",
      "jupyterlab-server             1.2.0\n",
      "jupytext                      1.13.0\n",
      "keras                         2.7.0\n",
      "Keras-Applications            1.0.8\n",
      "Keras-Preprocessing           1.0.5\n",
      "Markdown                      3.3.4\n",
      "markdown-it-py                1.1.0\n",
      "MarkupSafe                    2.0.1\n",
      "matplotlib-inline             0.1.3\n",
      "mdit-py-plugins               0.2.8\n",
      "mistune                       0.8.4\n",
      "mock                          3.0.5\n",
      "nbclient                      0.5.4\n",
      "nbconvert                     6.2.0\n",
      "nbformat                      5.1.3\n",
      "nest-asyncio                  1.5.1\n",
      "nltk                          3.6.4\n",
      "notebook                      6.4.3\n",
      "numpy                         1.17.3\n",
      "nvidia-dali-cuda110           1.6.0\n",
      "nvidia-dali-tf-plugin-cuda110 1.6.0\n",
      "nvidia-dlprofviewer           1.6.0\n",
      "opt-einsum                    3.3.0\n",
      "packaging                     21.0\n",
      "pandocfilters                 1.5.0\n",
      "parso                         0.8.2\n",
      "pexpect                       4.7.0\n",
      "pickleshare                   0.7.5\n",
      "pip                           21.2.4\n",
      "polygraphy                    0.33.0\n",
      "portpicker                    1.3.1\n",
      "prometheus-client             0.11.0\n",
      "prompt-toolkit                3.0.20\n",
      "protobuf                      3.18.1\n",
      "psutil                        5.7.0\n",
      "ptyprocess                    0.7.0\n",
      "pycparser                     2.20\n",
      "Pygments                      2.10.0\n",
      "pyparsing                     2.4.7\n",
      "pyrsistent                    0.18.0\n",
      "python-dateutil               2.8.2\n",
      "python-dotenv                 0.19.0\n",
      "pytz                          2021.3\n",
      "PyYAML                        5.4.1\n",
      "pyzmq                         22.3.0\n",
      "regex                         2021.9.30\n",
      "requests                      2.26.0\n",
      "scipy                         1.4.1\n",
      "Send2Trash                    1.8.0\n",
      "setuptools                    58.2.0\n",
      "six                           1.16.0\n",
      "sqlparse                      0.4.2\n",
      "tensorboard                   1.15.0\n",
      "tensorflow                    1.15.5+nv\n",
      "tensorflow-estimator          1.15.1\n",
      "tensorrt                      8.0.3.4\n",
      "termcolor                     1.1.0\n",
      "terminado                     0.12.1\n",
      "testpath                      0.5.0\n",
      "toml                          0.10.2\n",
      "tornado                       6.1\n",
      "tqdm                          4.62.3\n",
      "traitlets                     5.1.0\n",
      "uff                           0.6.9\n",
      "urllib3                       1.26.7\n",
      "uvicorn                       0.15.0\n",
      "uvloop                        0.16.0\n",
      "watchgod                      0.7\n",
      "wcwidth                       0.2.5\n",
      "webencodings                  0.5.1\n",
      "websockets                    10.0\n",
      "Werkzeug                      2.0.2\n",
      "wheel                         0.37.0\n",
      "whitenoise                    5.3.0\n",
      "wrapt                         1.13.2\n",
      "\u001b[33mWARNING: You are using pip version 21.2.4; however, version 21.3.1 is available.\n",
      "You should consider upgrading via the '/usr/bin/python -m pip install --upgrade pip' command.\u001b[0m\n"
     ]
    }
   ],
   "source": [
    "!pip list"
   ]
  },
  {
   "cell_type": "code",
   "execution_count": null,
   "metadata": {},
   "outputs": [],
   "source": []
  }
 ],
 "metadata": {
  "interpreter": {
   "hash": "ee640f96b5da0c73fb4abd3795ed69b37005fc009d0bb618c0cebf4063426b13"
  },
  "kernelspec": {
   "display_name": "Python 3 (ipykernel)",
   "language": "python",
   "name": "python3"
  },
  "language_info": {
   "codemirror_mode": {
    "name": "ipython",
    "version": 3
   },
   "file_extension": ".py",
   "mimetype": "text/x-python",
   "name": "python",
   "nbconvert_exporter": "python",
   "pygments_lexer": "ipython3",
   "version": "3.8.10"
  }
 },
 "nbformat": 4,
 "nbformat_minor": 4
}
